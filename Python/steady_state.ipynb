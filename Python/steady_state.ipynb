{
 "cells": [
  {
   "cell_type": "markdown",
   "execution_count": null,
   "metadata": {},
   "outputs": [],
   "source": [
    "## Imports and Data Fetching"
   ]
  },
  {
   "cell_type": "code",
   "execution_count": null,
   "metadata": {},
   "outputs": [],
   "source": [
    "%matplotlib inline\n",
    "%load_ext autoreload\n",
    "%autoreload 1\n",
    "%aimport nanslice\n",
    "%aimport nanslice.jupyter\n",
    "%aimport QUIT.base\n",
    "%aimport QUIT.interfaces.rufis\n",
    "import nibabel as nib\n",
    "import numpy as np\n",
    "import requests\n",
    "import gzip\n",
    "from os.path import isfile"
   ]
  },
  {
   "cell_type": "markdown",
   "execution_count": null,
   "metadata": {},
   "outputs": [],
   "source": [
    "## Setup"
   ]
  },
  {
   "cell_type": "code",
   "execution_count": null,
   "metadata": {},
   "outputs": [],
   "source": [
    "if not isfile('classes.mnc'):\n",
    "    print('Downloading classes')\n",
    "    params = {'download_for_real':'[Start Download!]',\n",
    "              'do_download_alias':'phantom_1.0mm_normal_crisp',\n",
    "              'format_value':'minc',\n",
    "              'who_name': 'Tobias Wood',\n",
    "              'who_institution': 'KCL',\n",
    "              'who_email': 'tobias.wood@kcl.ac.uk'}\n",
    "    response = requests.get(url='http://brainweb.bic.mni.mcgill.ca/cgi/brainweb1', params=params)\n",
    "    minc_file = open('classes.mnc', 'wb')\n",
    "    minc_file.write(response.content)\n",
    "if not isfile('rf20_B.mnc'):\n",
    "    print('Downloading B0')\n",
    "    params = {'download_for_real':'[Start Download!]',\n",
    "              'do_download_alias':'rf20_B.mnc.gz',\n",
    "              'format_value':'minc',\n",
    "              'zip_value':'none',\n",
    "              'who_name': 'Tobias Wood',\n",
    "              'who_institution': 'KCL',\n",
    "              'who_email': 'tobias.wood@kcl.ac.uk'}\n",
    "    response = requests.get(url='https://brainweb.bic.mni.mcgill.ca/cgi/brainweb1', params=params)\n",
    "    b0_file = open('rf20_B.mnc', 'wb')\n",
    "    b0_file.write(response.content)\n",
    "if not isfile('rf20_C.mnc'):\n",
    "    print('Downloading B1')\n",
    "    params = {'download_for_real':'[Start Download!]',\n",
    "              'do_download_alias':'rf20_C.mnc.gz',\n",
    "              'format_value':'minc',\n",
    "              'zip_value':'none',\n",
    "              'who_name': 'Tobias Wood',\n",
    "              'who_institution': 'KCL',\n",
    "              'who_email': 'tobias.wood@kcl.ac.uk'}\n",
    "    response = requests.get(url='https://brainweb.bic.mni.mcgill.ca/cgi/brainweb1', params=params)\n",
    "    b1_file = open('rf20_C.mnc', 'wb')\n",
    "    b1_file.write(response.content)\n",
    "classes = nanslice.Layer('classes.mnc')\n",
    "b0_minc = nanslice.Layer('rf20_B.mnc')\n",
    "b1_minc = nanslice.Layer('rf20_C.mnc')"
   ]
  },
  {
   "cell_type": "code",
   "execution_count": null,
   "metadata": {},
   "outputs": [],
   "source": [
    "# 0=Background\n",
    "# 1=CSF\n",
    "# 2=Grey Matter\n",
    "# 3=White Matter\n",
    "# 4=Fat\n",
    "# 5=Muscle/Skin\n",
    "# 6=Skin\n",
    "# 7=Skull\n",
    "# 8=Glial Matter\n",
    "# 9=Connective\n",
    "def classes_to_params(M0Vals, T1Vals, T2vals, subsamp=1):\n",
    "    class_data = classes.image.get_data().astype('int32')\n",
    "    M0data = np.choose(class_data[::subsamp,::subsamp,::subsamp], M0vals).astype('float32')\n",
    "    T1data = np.choose(class_data[::subsamp,::subsamp,::subsamp], T1vals).astype('float32')\n",
    "    T2data = np.choose(class_data[::subsamp,::subsamp,::subsamp], T2vals).astype('float32')\n",
    "    f0data = (b0_minc.image.get_data().astype('float32')[::subsamp,::subsamp,::subsamp] - 1) * 500\n",
    "    B1data = b1_minc.image.get_data().astype('float32')[::subsamp,::subsamp,::subsamp]\n",
    "    # PDdata = np.array(list(map(PDFunc, classes.image.get_data())))\n",
    "    M0image = nib.nifti1.Nifti1Image(M0data, affine=classes.image.affine)\n",
    "    T1image = nib.nifti1.Nifti1Image(T1data, affine=classes.image.affine)\n",
    "    T2image = nib.nifti1.Nifti1Image(T2data, affine=classes.image.affine)\n",
    "    f0image = nib.nifti1.Nifti1Image(f0data, affine=classes.image.affine)\n",
    "    B1image = nib.nifti1.Nifti1Image(B1data, affine=classes.image.affine)\n",
    "    nib.save(M0image, 'M0.nii.gz')\n",
    "    nib.save(T1image, 'T1.nii.gz')\n",
    "    nib.save(T2image, 'T2.nii.gz')\n",
    "    nib.save(f0image, 'f0.nii.gz')\n",
    "    nib.save(B1image, 'B1.nii.gz')"
   ]
  },
  {
   "cell_type": "markdown",
   "execution_count": null,
   "metadata": {},
   "outputs": [],
   "source": [
    "## Simulate and Display Image"
   ]
  },
  {
   "cell_type": "code",
   "execution_count": null,
   "metadata": {},
   "outputs": [],
   "source": [
    "M0vals = np.array([0, 1, 0.8, 0.7, 0, 0, 0, 0, 0, 0])\n",
    "T1vals = np.array([0, 3.0, 1.3, 0.9, 0, 0, 0, 0, 0, 0])\n",
    "T2vals = np.array([0, 0.5, 0.08, 0.06, 0, 0, 0, 0, 0, 0])\n",
    "classes_to_params(M0vals, T1vals, T2vals, 1)\n",
    "region='90,0,0,1,217,181'\n",
    "region2='45,0,0,1,109,91'"
   ]
  },
  {
   "cell_type": "code",
   "execution_count": null,
   "metadata": {},
   "outputs": [],
   "source": [
    "seq = {\n",
    "        \"TR\": 0.002,\n",
    "        \"Tramp\": 0.01,\n",
    "        \"Tspoil\": 0.05,\n",
    "        \"FA\": [2, 8, 8],\n",
    "        \"Trf\": [28e-6, 28e-6, 28e-6],\n",
    "        \"spokes_per_seg\": 48,\n",
    "        \"groups_per_seg\": [1, 1, 1],\n",
    "        \"prep_FA\": [0, 0, 360],\n",
    "        \"prep_df\": [0, 0, 0],\n",
    "        \"prep_Trf\": 0.001,\n",
    "        \"prep_p1\": 1.,\n",
    "        \"prep_p2\": 1.\n",
    "    }\n",
    "inputs={'M0':'M0.nii.gz', 'T1':'T1.nii.gz', 'B1':'B1.nii.gz'}\n",
    "sim_result = QUIT.interfaces.rufis.SteadyStateSim(sequence=seq, in_file='sim.nii.gz', noise=0.00025, mask='M0.nii.gz', subregion=region, **inputs).run()\n",
    "display(nanslice.jupyter.timeseries(sim_result.outputs.out_file, clim=[0,0.025]))\n",
    "mupa = QUIT.interfaces.rufis.SteadyState(sequence=seq, in_file='sim.nii.gz', mask_file='M0.nii.gz', subregion=region).run()\n",
    "for name, fname in inputs.items():\n",
    "    display(nanslice.jupyter.compare(fname, 'SS_' + fname, axis='z', title=name))"
   ]
  },
  {
   "cell_type": "code",
   "execution_count": null,
   "metadata": {},
   "outputs": [],
   "source": [
    "seq = {\n",
    "        \"TR\": 0.002,\n",
    "        \"Tramp\": 0.01,\n",
    "        \"Tspoil\": 0.05,\n",
    "        \"FA\": [2, 8, 2, 8, 2, 8],\n",
    "        \"Trf\": [28e-6, 28e-6, 28e-6, 28e-6, 28e-6, 28e-6],\n",
    "        \"spokes_per_seg\": 48,\n",
    "        \"groups_per_seg\": [1, 1, 1, 1, 1, 1],\n",
    "        \"prep_FA\": [0, 180, 180, 360, 540, 540],\n",
    "        \"prep_df\": [0, -0.25, 0.25, 0, -0.1, 0.1],\n",
    "        \"prep_Trf\": 0.01,\n",
    "        \"prep_p1\": 1.,\n",
    "        \"prep_p2\": 1.\n",
    "    }\n",
    "inputs={'M0':'M0.nii.gz', 'T1':'T1.nii.gz', 'T2':'T2.nii.gz', 'f0': 'f0.nii.gz', 'B1':'B1.nii.gz'}\n",
    "sim_result = QUIT.interfaces.rufis.SteadyStateSim(sequence=seq, fitT2=True, in_file='sim.nii.gz', noise=0.00025, mask='M0.nii.gz', subregion=region, **inputs).run()\n",
    "display(nanslice.jupyter.timeseries(sim_result.outputs.out_file, clim=[0,0.025]))\n",
    "mupa = QUIT.interfaces.rufis.SteadyState(sequence=seq, fitT2=True, in_file='sim.nii.gz', mask_file='M0.nii.gz', subregion=region).run()\n",
    "for name, fname in inputs.items():\n",
    "    display(nanslice.jupyter.compare(fname, 'SS_' + fname, axis='z', title=name))"
   ]
  },
  {
   "cell_type": "code",
   "execution_count": null,
   "metadata": {},
   "outputs": [],
   "source": [
    "seq = {\n",
    "        \"TR\": 0.002,\n",
    "        \"Tramp\": 0.01,\n",
    "        \"Tspoil\": 0.05,\n",
    "        \"FA\": [2, 8, 2, 2, 2, 2, 2],\n",
    "        \"Trf\": [28e-6, 28e-6, 28e-6, 28e-6, 28e-6, 28e-6, 28e-6],\n",
    "        \"spokes_per_seg\": 48,\n",
    "        \"groups_per_seg\": [1, 1, 1, 1, 1, 1, 1],\n",
    "        \"prep_FA\": [0, 0, 180, 180, 360, 540, 540],\n",
    "        \"prep_df\": [0, 0, -0.25, 0.25, 0, -0.1, 0.1],\n",
    "        \"prep_Trf\": 0.01,\n",
    "        \"prep_p1\": 1.,\n",
    "        \"prep_p2\": 1.\n",
    "    }\n",
    "inputs={'M0':'M0.nii.gz', 'T1':'T1.nii.gz', 'T2':'T2.nii.gz', 'f0': 'f0.nii.gz', 'B1':'B1.nii.gz'}\n",
    "sim_result = QUIT.interfaces.rufis.SteadyStateSim(sequence=seq, fitT2=True, in_file='sim.nii.gz', noise=0.00025, mask='M0.nii.gz', subregion=region, **inputs).run()\n",
    "display(nanslice.jupyter.timeseries(sim_result.outputs.out_file, clim=[0,0.025]))\n",
    "mupa = QUIT.interfaces.rufis.SteadyState(sequence=seq, fitT2=True, in_file='sim.nii.gz', mask_file='M0.nii.gz', subregion=region).run()\n",
    "for name, fname in inputs.items():\n",
    "    display(nanslice.jupyter.compare(fname, 'SS_' + fname, axis='z', title=name))"
   ]
  },
  {
   "cell_type": "code",
   "execution_count": null,
   "metadata": {},
   "outputs": [],
   "source": []
  }
 ],
 "metadata": {
  "kernel_info": {
   "name": "python3"
  },
  "kernelspec": {
   "display_name": "Python 3",
   "language": "python",
   "name": "python3"
  },
  "language_info": {
   "codemirror_mode": {
    "name": "ipython",
    "version": 3
   },
   "file_extension": ".py",
   "mimetype": "text/x-python",
   "name": "python",
   "nbconvert_exporter": "python",
   "pygments_lexer": "ipython3",
   "version": "3.7.4-final"
  },
  "nteract": {
   "version": "0.8.4"
  }
 },
 "nbformat": 4,
 "nbformat_minor": 4
}