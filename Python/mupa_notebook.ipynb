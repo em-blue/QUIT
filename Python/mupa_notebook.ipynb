{
 "cells": [
  {
   "cell_type": "markdown",
   "execution_count": null,
   "metadata": {},
   "outputs": [],
   "source": [
    "## Imports and Data Fetching"
   ]
  },
  {
   "cell_type": "code",
   "execution_count": null,
   "metadata": {},
   "outputs": [],
   "source": [
    "%matplotlib inline\n",
    "%load_ext autoreload\n",
    "%autoreload 1\n",
    "%aimport nanslice\n",
    "%aimport nanslice.jupyter\n",
    "%aimport QUIT.interfaces.rufis\n",
    "import nibabel as nib\n",
    "import numpy as np\n",
    "import requests\n",
    "import gzip\n",
    "from os.path import isfile"
   ]
  },
  {
   "cell_type": "markdown",
   "execution_count": null,
   "metadata": {},
   "outputs": [],
   "source": [
    "## Setup"
   ]
  },
  {
   "cell_type": "code",
   "execution_count": null,
   "metadata": {},
   "outputs": [],
   "source": [
    "if not isfile('classes.mnc'):\n",
    "    print('Downloading classes')\n",
    "    params = {'download_for_real':'[Start Download!]',\n",
    "              'do_download_alias':'phantom_1.0mm_normal_crisp',\n",
    "              'format_value':'minc',\n",
    "              'who_name': 'Tobias Wood',\n",
    "              'who_institution': 'KCL',\n",
    "              'who_email': 'tobias.wood@kcl.ac.uk'}\n",
    "    response = requests.get(url='http://brainweb.bic.mni.mcgill.ca/cgi/brainweb1', params=params)\n",
    "    minc_file = open('classes.mnc', 'wb')\n",
    "    minc_file.write(response.content)\n",
    "if not isfile('rf20_C.mnc'):\n",
    "    print('Downloading B1')\n",
    "    params = {'download_for_real':'[Start Download!]',\n",
    "              'do_download_alias':'rf20_C.mnc.gz',\n",
    "              'format_value':'minc',\n",
    "              'zip_value':'none',\n",
    "              'who_name': 'Tobias Wood',\n",
    "              'who_institution': 'KCL',\n",
    "              'who_email': 'tobias.wood@kcl.ac.uk'}\n",
    "    response = requests.get(url='https://brainweb.bic.mni.mcgill.ca/cgi/brainweb1', params=params)\n",
    "    b1_file = open('rf20_C.mnc', 'wb')\n",
    "    b1_file.write(response.content)\n",
    "classes = nanslice.Layer('classes.mnc')\n",
    "b1_minc = nanslice.Layer('rf20_C.mnc')"
   ]
  },
  {
   "cell_type": "code",
   "execution_count": null,
   "metadata": {},
   "outputs": [],
   "source": [
    "# 0=Background\n",
    "# 1=CSF\n",
    "# 2=Grey Matter\n",
    "# 3=White Matter\n",
    "# 4=Fat\n",
    "# 5=Muscle/Skin\n",
    "# 6=Skin\n",
    "# 7=Skull\n",
    "# 8=Glial Matter\n",
    "# 9=Connective\n",
    "def classes_to_params(M0Vals, T1Vals, T2vals, subsamp=1):\n",
    "    class_data = classes.image.get_data().astype('int32')\n",
    "    M0data = np.choose(class_data[::subsamp,::subsamp,::subsamp], M0vals).astype('float32')\n",
    "    T1data = np.choose(class_data[::subsamp,::subsamp,::subsamp], T1vals).astype('float32')\n",
    "    T2data = np.choose(class_data[::subsamp,::subsamp,::subsamp], T2vals).astype('float32')\n",
    "    B1data = b1_minc.image.get_data().astype('float32')[::subsamp,::subsamp,::subsamp]\n",
    "    # PDdata = np.array(list(map(PDFunc, classes.image.get_data())))\n",
    "    M0image = nib.nifti1.Nifti1Image(M0data, affine=classes.image.affine)\n",
    "    T1image = nib.nifti1.Nifti1Image(T1data, affine=classes.image.affine)\n",
    "    T2image = nib.nifti1.Nifti1Image(T2data, affine=classes.image.affine)\n",
    "    B1image = nib.nifti1.Nifti1Image(B1data, affine=classes.image.affine)\n",
    "    nib.save(M0image, 'M0.nii.gz')\n",
    "    nib.save(T1image, 'T1.nii.gz')\n",
    "    nib.save(T2image, 'T2.nii.gz')\n",
    "    nib.save(B1image, 'B1.nii.gz')"
   ]
  },
  {
   "cell_type": "code",
   "execution_count": null,
   "metadata": {},
   "outputs": [],
   "source": [
    "prep_pulses = {\n",
    "    'inv': {'FAeff': 175.3, 'T_long': 0.0365, 'T_trans': 0.004, 'int_b1_sq': 53390.0},\n",
    "    't2-20': {'FAeff': 0.07, 'T_long': 0.0055, 'T_trans': 0.020, 'int_b1_sq': 279600.0},\n",
    "    't2-40': {'FAeff': 0.07, 'T_long': 0.0055, 'T_trans': 0.040, 'int_b1_sq': 279600.0},\n",
    "    't2-60': {'FAeff': 0.07, 'T_long': 0.0055, 'T_trans': 0.060, 'int_b1_sq': 279600.0},\n",
    "    't2-80': {'FAeff': 0.07, 'T_long': 0.0055, 'T_trans': 0.080, 'int_b1_sq': 279600.0},\n",
    "    't2-120': {'FAeff': 0.07, 'T_long': 0.0055, 'T_trans': 0.120, 'int_b1_sq': 279600.0},\n",
    "    't2-160': {'FAeff': 0.07, 'T_long': 0.0055, 'T_trans': 0.160, 'int_b1_sq': 279600.0},\n",
    "    't2-inv': {'FAeff': 180., 'T_long': 0.0055, 'T_trans': 0.020, 'int_b1_sq': 279600.0},\n",
    "    'null': {'FAeff': 0.0, 'T_long': 0.0, 'T_trans': 0.0, 'int_b1_sq': 0.0},\n",
    "    'delay-400': {'FAeff': 0.0, 'T_long': 0.4, 'T_trans': 0.0, 'int_b1_sq': 0.0},\n",
    "    'delay-800': {'FAeff': 0.0, 'T_long': 0.8, 'T_trans': 0.0, 'int_b1_sq': 0.0}\n",
    "}"
   ]
  },
  {
   "cell_type": "markdown",
   "execution_count": null,
   "metadata": {},
   "outputs": [],
   "source": [
    "## Simulate and Display Image"
   ]
  },
  {
   "cell_type": "code",
   "execution_count": null,
   "metadata": {},
   "outputs": [],
   "source": [
    "M0vals = np.array([0, 1, 0.8, 0.7, 0, 0, 0, 0, 0, 0])\n",
    "T1vals = np.array([0, 3.0, 1.3, 0.9, 0, 0, 0, 0, 0, 0])\n",
    "T2vals = np.array([0, 0.5, 0.08, 0.06, 0, 0, 0, 0, 0, 0])\n",
    "classes_to_params(M0vals, T1vals, T2vals, 2)"
   ]
  },
  {
   "cell_type": "markdown",
   "execution_count": null,
   "metadata": {},
   "outputs": [],
   "source": [
    "## Emil's November Data"
   ]
  },
  {
   "cell_type": "code",
   "execution_count": null,
   "metadata": {},
   "outputs": [],
   "source": [
    "seq = {\n",
    "    'MUPA': {\n",
    "        'TR': 2.34e-3,\n",
    "        'Tramp': 10e-3,\n",
    "        'spokes_per_seg': 256,\n",
    "        'groups_per_seg': [1, 1, 1, 1, 1, 1, 1],\n",
    "        'FA': [2, 2, 2, 2, 2, 2, 2],\n",
    "        'Trf': [24, 24, 24, 24, 24, 24, 24],\n",
    "        'prep': ['inv', 'null', 'null', 'null', 't2-40', 't2-80', 't2-160'],\n",
    "        'prep_pulses': prep_pulses}\n",
    "}\n",
    "region='45,0,0,1,109,91'\n",
    "sim_result = QUIT.interfaces.rufis.MUPASim(sequence=seq, in_file='sim.nii.gz', noise=0.0005, M0='M0.nii.gz', T1='T1.nii.gz', T2='T2.nii.gz', B1='B1.nii.gz', mask='M0.nii.gz', subregion=region).run()\n",
    "display(nanslice.jupyter.timeseries(sim_result.outputs.out_file, clim=[-0.01,0.02]))\n",
    "mupa = QUIT.interfaces.rufis.MUPA(sequence=seq, in_file='sim.nii.gz', mask_file='M0.nii.gz', subregion=region).run()\n",
    "display(nanslice.jupyter.compare('M0.nii.gz', 'MUPA_M0.nii.gz', axis='z', clim=[0, 1.25], title='M0'))\n",
    "display(nanslice.jupyter.compare('T1.nii.gz', 'MUPA_T1.nii.gz', axis='z', clim=[0.5, 1.5], title='T1'))\n",
    "display(nanslice.jupyter.compare('T2.nii.gz', 'MUPA_T2.nii.gz', axis='z', clim=[0.0, 0.15], title='T2'))"
   ]
  },
  {
   "cell_type": "markdown",
   "execution_count": null,
   "metadata": {},
   "outputs": [],
   "source": [
    "## 4 Point"
   ]
  },
  {
   "cell_type": "code",
   "execution_count": null,
   "metadata": {},
   "outputs": [],
   "source": [
    "seq = {\n",
    "    'MUPA': {\n",
    "        'TR': 2.34e-3,\n",
    "        'Tramp': 10e-3,\n",
    "        'spokes_per_seg': 512,\n",
    "        'groups_per_seg': [1, 1, 1, 1],\n",
    "        'FA': [2, 2, 2, 2],\n",
    "        'Trf': [24, 24, 24, 24],\n",
    "        'prep': ['inv', 'delay-800', 't2-80', 'delay-800'],\n",
    "        'prep_pulses': prep_pulses}\n",
    "}\n",
    "region='45,0,0,1,109,91'\n",
    "sim_result = QUIT.interfaces.rufis.MUPASim(sequence=seq, in_file='sim.nii.gz', noise=0.0005, M0='M0.nii.gz', T1='T1.nii.gz', T2='T2.nii.gz', B1='B1.nii.gz', mask='M0.nii.gz', subregion=region).run()\n",
    "display(nanslice.jupyter.timeseries(sim_result.outputs.out_file, clim=[-0.01,0.025]))\n",
    "mupa = QUIT.interfaces.rufis.MUPA(sequence=seq, in_file='sim.nii.gz', mask_file='M0.nii.gz', subregion=region).run()\n",
    "display(nanslice.jupyter.compare('M0.nii.gz', 'MUPA_M0.nii.gz', axis='z', clim=[0, 1.25], title='M0'))\n",
    "display(nanslice.jupyter.compare('T1.nii.gz', 'MUPA_T1.nii.gz', axis='z', clim=[0.5, 1.5], title='T1'))\n",
    "display(nanslice.jupyter.compare('T2.nii.gz', 'MUPA_T2.nii.gz', axis='z', clim=[0.0, 0.15], title='T2'))"
   ]
  },
  {
   "cell_type": "markdown",
   "execution_count": null,
   "metadata": {},
   "outputs": [],
   "source": [
    "## 4 Point with Groups"
   ]
  },
  {
   "cell_type": "code",
   "execution_count": null,
   "metadata": {},
   "outputs": [],
   "source": [
    "seq = {\n",
    "    'MUPA': {\n",
    "        'TR': 2.34e-3,\n",
    "        'Tramp': 10e-3,\n",
    "        'spokes_per_seg': 512,\n",
    "        'groups_per_seg': [1, 1, 4, 1],\n",
    "        'FA': [2, 2, 2, 2],\n",
    "        'Trf': [24, 24, 24, 24],\n",
    "        'prep': ['inv', 'delay-800','t2-80', 'delay-800'],\n",
    "        'prep_pulses': prep_pulses}\n",
    "}\n",
    "region='45,0,0,1,109,91'\n",
    "sim_result = QUIT.interfaces.rufis.MUPASim(sequence=seq, in_file='sim.nii.gz', noise=0.0005, M0='M0.nii.gz', T1='T1.nii.gz', T2='T2.nii.gz', B1='B1.nii.gz', mask='M0.nii.gz', subregion=region).run()\n",
    "display(nanslice.jupyter.timeseries(sim_result.outputs.out_file, clim=[-0.01,0.025]))\n",
    "mupa = QUIT.interfaces.rufis.MUPA(sequence=seq, in_file='sim.nii.gz', mask_file='M0.nii.gz', subregion=region).run()\n",
    "display(nanslice.jupyter.compare('M0.nii.gz', 'MUPA_M0.nii.gz', axis='z', clim=[-0.01, 1.25], title='M0'))\n",
    "display(nanslice.jupyter.compare('T1.nii.gz', 'MUPA_T1.nii.gz', axis='z', clim=[0.5, 1.5], title='T1'))\n",
    "display(nanslice.jupyter.compare('T2.nii.gz', 'MUPA_T2.nii.gz', axis='z', clim=[0.0, 0.15], title='T2'))"
   ]
  },
  {
   "cell_type": "markdown",
   "execution_count": null,
   "metadata": {},
   "outputs": [],
   "source": [
    "## T2-Prep Only"
   ]
  },
  {
   "cell_type": "code",
   "execution_count": null,
   "metadata": {},
   "outputs": [],
   "source": [
    "seq = {\n",
    "    'MUPA': {\n",
    "        'TR': 2.34e-3,\n",
    "        'Tramp': 10e-3,\n",
    "        'spokes_per_seg': 512,\n",
    "        'groups_per_seg': [4, 4, 1, 1],\n",
    "        'FA': [2, 2, 2, 2],\n",
    "        'Trf': [24, 24, 24, 24],\n",
    "        'prep': ['t2-40', 't2-80', 'null', 'delay-800'],\n",
    "        'prep_pulses': prep_pulses}\n",
    "}\n",
    "region='45,0,0,1,109,91'\n",
    "sim_result = QUIT.interfaces.rufis.MUPASim(sequence=seq, in_file='sim.nii.gz', noise=0.0005, M0='M0.nii.gz', T1='T1.nii.gz', T2='T2.nii.gz', B1='B1.nii.gz', mask='M0.nii.gz', subregion=region).run()\n",
    "display(nanslice.jupyter.timeseries(sim_result.outputs.out_file, clim=[0,0.025]))\n",
    "mupa = QUIT.interfaces.rufis.MUPA(sequence=seq, in_file='sim.nii.gz', mask_file='M0.nii.gz', subregion=region).run()\n",
    "display(nanslice.jupyter.compare('M0.nii.gz', 'MUPA_M0.nii.gz', axis='z', clim=[-0.01, 1.25], title='M0'))\n",
    "display(nanslice.jupyter.compare('T1.nii.gz', 'MUPA_T1.nii.gz', axis='z', clim=[0.5, 1.5], title='T1'))\n",
    "display(nanslice.jupyter.compare('T2.nii.gz', 'MUPA_T2.nii.gz', axis='z', clim=[0.0, 0.15], title='T2'))"
   ]
  },
  {
   "cell_type": "code",
   "execution_count": null,
   "metadata": {},
   "outputs": [],
   "source": [
    "FAe = np.degrees(np.arccos(np.exp(-0.00234/1)))\n",
    "print(FAe)"
   ]
  },
  {
   "cell_type": "code",
   "execution_count": null,
   "metadata": {},
   "outputs": [],
   "source": [
    "seq = {\n",
    "    'MUPA': {\n",
    "        'TR': 2.34e-3,\n",
    "        'Tramp': 10e-3,\n",
    "        'spokes_per_seg': 512,\n",
    "        'groups_per_seg': [1, 1, 4],\n",
    "        'FA': [3, 3, 3],\n",
    "        'Trf': [24, 24, 24],\n",
    "        'prep': ['inv', 'null','t2-60'],\n",
    "        'prep_pulses': prep_pulses}\n",
    "}\n",
    "region='45,0,0,1,109,91'\n",
    "sim_result = QUIT.interfaces.rufis.MUPASim(sequence=seq, in_file='sim.nii.gz', noise=0.0005, M0='M0.nii.gz', T1='T1.nii.gz', T2='T2.nii.gz', B1='B1.nii.gz', mask='M0.nii.gz', subregion=region).run()\n",
    "display(nanslice.jupyter.timeseries(sim_result.outputs.out_file, clim=[-0.01,0.025]))\n",
    "mupa = QUIT.interfaces.rufis.MUPA(sequence=seq, in_file='sim.nii.gz', mask_file='M0.nii.gz', subregion=region).run()\n",
    "display(nanslice.jupyter.compare('M0.nii.gz', 'MUPA_M0.nii.gz', axis='z', clim=[-0.01, 1.25], title='M0'))\n",
    "display(nanslice.jupyter.compare('T1.nii.gz', 'MUPA_T1.nii.gz', axis='z', clim=[0.5, 1.5], title='T1'))\n",
    "display(nanslice.jupyter.compare('T2.nii.gz', 'MUPA_T2.nii.gz', axis='z', clim=[0.0, 0.15], title='T2'))"
   ]
  },
  {
   "cell_type": "code",
   "execution_count": null,
   "metadata": {},
   "outputs": [],
   "source": []
  }
 ],
 "metadata": {
  "kernel_info": {
   "name": "python3"
  },
  "kernelspec": {
   "display_name": "Python 3",
   "language": "python",
   "name": "python3"
  },
  "language_info": {
   "codemirror_mode": {
    "name": "ipython",
    "version": 3
   },
   "file_extension": ".py",
   "mimetype": "text/x-python",
   "name": "python",
   "nbconvert_exporter": "python",
   "pygments_lexer": "ipython3",
   "version": "3.7.1"
  },
  "nteract": {
   "version": "0.8.4"
  }
 },
 "nbformat": 4,
 "nbformat_minor": 4
}