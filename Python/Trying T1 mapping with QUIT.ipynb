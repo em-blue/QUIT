{
 "cells": [
  {
   "cell_type": "markdown",
   "metadata": {},
   "source": [
    "## Testing out QUIT for VFA T1 mapping"
   ]
  },
  {
   "cell_type": "code",
   "execution_count": 3,
   "metadata": {},
   "outputs": [],
   "source": [
    "%matplotlib inline\n",
    "from QUIT.interfaces.relax import DESPOT1, DESPOT1Sim, DESPOT2\n",
    "from nanslice import Layer\n",
    "import nanslice.jupyter as ns\n",
    "import nibabel as nib\n",
    "import numpy as np\n",
    "import requests\n",
    "import gzip\n",
    "import os.path\n"
   ]
  },
  {
   "cell_type": "code",
   "execution_count": 5,
   "metadata": {},
   "outputs": [],
   "source": [
    "# loading 4 3d SPGR images, flip angles 2,5,10,15\n",
    "spgr15=nib.load('SPGR_data/MR_series_4_Fast_SPGR_15DEG.nii.gz')\n",
    "spgr10=nib.load('SPGR_data/MR_series_5_Fast_SPGR_10DEG.nii.gz')\n",
    "spgr5=nib.load('SPGR_data/MR_series_6_Fast_SPGR_5DEG.nii.gz')\n",
    "spgr2=nib.load('SPGR_data/MR_series_7_Fast_SPGR_2DEG.nii.gz')"
   ]
  },
  {
   "cell_type": "code",
   "execution_count": 6,
   "metadata": {},
   "outputs": [
    {
     "ename": "NameError",
     "evalue": "name 'd1seq' is not defined",
     "output_type": "error",
     "traceback": [
      "\u001b[0;31m---------------------------------------------------------------------------\u001b[0m",
      "\u001b[0;31mNameError\u001b[0m                                 Traceback (most recent call last)",
      "\u001b[0;32m<ipython-input-6-f5a599f38154>\u001b[0m in \u001b[0;36m<module>\u001b[0;34m\u001b[0m\n\u001b[0;32m----> 1\u001b[0;31m \u001b[0md1\u001b[0m \u001b[0;34m=\u001b[0m \u001b[0mDESPOT1\u001b[0m\u001b[0;34m(\u001b[0m\u001b[0msequence\u001b[0m\u001b[0;34m=\u001b[0m\u001b[0md1seq\u001b[0m\u001b[0;34m,\u001b[0m \u001b[0min_file\u001b[0m\u001b[0;34m=\u001b[0m\u001b[0;34m'sim_spgr.nii.gz'\u001b[0m\u001b[0;34m)\u001b[0m\u001b[0;34m\u001b[0m\u001b[0;34m\u001b[0m\u001b[0m\n\u001b[0m\u001b[1;32m      2\u001b[0m \u001b[0md1_result\u001b[0m \u001b[0;34m=\u001b[0m \u001b[0md1\u001b[0m\u001b[0;34m.\u001b[0m\u001b[0mrun\u001b[0m\u001b[0;34m(\u001b[0m\u001b[0;34m)\u001b[0m\u001b[0;34m\u001b[0m\u001b[0;34m\u001b[0m\u001b[0m\n",
      "\u001b[0;31mNameError\u001b[0m: name 'd1seq' is not defined"
     ]
    }
   ],
   "source": [
    "d1 = DESPOT1(sequence=d1seq, in_file='sim_spgr.nii.gz')\n",
    "d1_result = d1.run()"
   ]
  },
  {
   "cell_type": "code",
   "execution_count": null,
   "metadata": {},
   "outputs": [],
   "source": []
  }
 ],
 "metadata": {
  "kernelspec": {
   "display_name": "Python 3",
   "language": "python",
   "name": "python3"
  },
  "language_info": {
   "codemirror_mode": {
    "name": "ipython",
    "version": 3
   },
   "file_extension": ".py",
   "mimetype": "text/x-python",
   "name": "python",
   "nbconvert_exporter": "python",
   "pygments_lexer": "ipython3",
   "version": "3.7.6"
  }
 },
 "nbformat": 4,
 "nbformat_minor": 4
}
